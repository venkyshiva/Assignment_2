{
 "cells": [
  {
   "cell_type": "code",
   "execution_count": null,
   "metadata": {},
   "outputs": [],
   "source": [
    "'''Write a Python Program(with class concepts) to find the area of the triangle using the below\n",
    "formula.\n",
    "area = (s*(s-a)*(s-b)*(s-c)) ** 0.5\n",
    "Function to take the length of the sides of triangle from user should be defined in the parent\n",
    "class and function to calculate the area should be defined in subclass.\n",
    "'''"
   ]
  },
  {
   "cell_type": "code",
   "execution_count": 5,
   "metadata": {},
   "outputs": [
    {
     "name": "stdout",
     "output_type": "stream",
     "text": [
      "--------------------\n",
      "Input side A =5\n",
      "Input side B =8\n",
      "Input side C =9\n",
      "--------------------\n",
      "Side A = 5\n",
      "Side B = 8\n",
      "Side C = 9\n",
      "--------------------\n",
      "Area of trianlge of sides A, B, & C 19.8997487421324\n"
     ]
    }
   ],
   "source": [
    "class TriangleBase:\n",
    "    def __init__(self):\n",
    "        print ('-'*20)\n",
    "        self.a = ''\n",
    "        self.b = ''\n",
    "        self.c = ''\n",
    "    def get_sides(self):\n",
    "        error = False\n",
    "        try:\n",
    "            self.a = int(input('Input side A ='))\n",
    "            self.b = int(input('Input side B ='))\n",
    "            self.c = int(input('Input side C ='))\n",
    "            print ('-'*20)\n",
    "        except:\n",
    "            print ('Input Error - Non Numeric')\n",
    "            error = True\n",
    "        finally:\n",
    "            if error == True:\n",
    "                self.get_sides()\n",
    "            else:\n",
    "                print ('Side A = {}'.format(self.a))  \n",
    "                print ('Side B = {}'.format(self.b))  \n",
    "                print ('Side C = {}'.format(self.c))  \n",
    "                print ('-'*20)\n",
    "        \n",
    "class TriangleDerived(TriangleBase):\n",
    "    def __init__(self):\n",
    "        super(TriangleDerived,self).__init__()\n",
    "        self.s = 0\n",
    "    def find_area(self):\n",
    "        self.s = (self.a + self.b + self.c) * .5\n",
    "        return (self.s*(self.s-self.a)*(self.s-self.b)*(self.s-self.c)) ** 0.5\n",
    "        \n",
    "tri = TriangleDerived()\n",
    "tri.get_sides()\n",
    "print('Area of trianlge of sides A, B, & C {}'.format(tri.find_area()))"
   ]
  },
  {
   "cell_type": "code",
   "execution_count": null,
   "metadata": {},
   "outputs": [],
   "source": []
  }
 ],
 "metadata": {
  "kernelspec": {
   "display_name": "Python 3",
   "language": "python",
   "name": "python3"
  },
  "language_info": {
   "codemirror_mode": {
    "name": "ipython",
    "version": 3
   },
   "file_extension": ".py",
   "mimetype": "text/x-python",
   "name": "python",
   "nbconvert_exporter": "python",
   "pygments_lexer": "ipython3",
   "version": "3.6.5"
  }
 },
 "nbformat": 4,
 "nbformat_minor": 2
}
