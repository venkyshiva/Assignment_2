{
 "cells": [
  {
   "cell_type": "code",
   "execution_count": 1,
   "metadata": {},
   "outputs": [],
   "source": [
    "# Write a Python program using function concept that maps list of words into a list of integers\n",
    "# representing the lengths of the corresponding words.\n",
    "# Hint: ​If a list [ ab,cde,erty] is passed on to the python function output should come as [2,3,4]\n",
    " # Here 2,3 and 4 are the lengths of the words in the list."
   ]
  },
  {
   "cell_type": "code",
   "execution_count": 2,
   "metadata": {},
   "outputs": [],
   "source": [
    "def word_len_list(lst):\n",
    "    long_words = []\n",
    "    for word in lst:\n",
    "        long_words.append(len(word))\n",
    "    return long_words"
   ]
  },
  {
   "cell_type": "code",
   "execution_count": 3,
   "metadata": {},
   "outputs": [
    {
     "name": "stdout",
     "output_type": "stream",
     "text": [
      "[3, 3, 4, 4, 2, 5, 2, 10, 6, 4, 1, 4, 2, 6, 3, 3, 6, 4, 4, 2, 8, 3, 5, 6, 4, 2, 4, 3, 4, 10, 2, 3, 2, 3, 5]\n"
     ]
    }
   ],
   "source": [
    "print(word_len_list('You get more time to focus on individual words. When a text is short, you can \\\n",
    "                    devote more time to learning how every single word is used and what importance \\\n",
    "                    it has in the piece'.split()))"
   ]
  }
 ],
 "metadata": {
  "kernelspec": {
   "display_name": "Python 3",
   "language": "python",
   "name": "python3"
  },
  "language_info": {
   "codemirror_mode": {
    "name": "ipython",
    "version": 3
   },
   "file_extension": ".py",
   "mimetype": "text/x-python",
   "name": "python",
   "nbconvert_exporter": "python",
   "pygments_lexer": "ipython3",
   "version": "3.6.5"
  }
 },
 "nbformat": 4,
 "nbformat_minor": 2
}
